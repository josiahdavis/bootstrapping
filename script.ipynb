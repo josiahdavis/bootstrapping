{
 "cells": [
  {
   "cell_type": "markdown",
   "metadata": {},
   "source": [
    "$$e^x=\\sum_{i=0}^\\infty \\frac{1}{i!}x^i$$"
   ]
  },
  {
   "cell_type": "code",
   "execution_count": null,
   "metadata": {
    "collapsed": true
   },
   "outputs": [],
   "source": []
  },
  {
   "cell_type": "code",
   "execution_count": null,
   "metadata": {
    "collapsed": true
   },
   "outputs": [],
   "source": []
  },
  {
   "cell_type": "markdown",
   "metadata": {},
   "source": [
    "$$s = \\sqrt{\\frac{1}{N-1}}$$"
   ]
  },
  {
   "cell_type": "markdown",
   "metadata": {},
   "source": [
    "$$c = \\sqrt{a^2 + b^2}$$"
   ]
  },
  {
   "cell_type": "markdown",
   "metadata": {},
   "source": [
    "## Agenda\n",
    "1. What is Bootstrapping?\n",
    "2. Why would we use Bootstrapping?\n",
    "3. Calculating Confidence Intervals using Bootstrapping\n",
    "4. Example in Python\n",
    "5. How to measure the goodness of bootstrapping\n",
    "6. Estimating Bias through Bootstrapping"
   ]
  },
  {
   "cell_type": "markdown",
   "metadata": {},
   "source": [
    "## Introduction\n",
    "Welcome! As you know, the topic of this webinar is Bootstrapping in Statistical Inference. Let me start with some questions to motivate this. I fully realize that bootstrapping may be a new topic. Let me start with a motivating question: *How do you conduct statistical inference, when you don't know what distribution the data comes from?*"
   ]
  },
  {
   "cell_type": "markdown",
   "metadata": {},
   "source": [
    "## Defining Terms\n",
    "First of all, we need to make some definitions. For many of you, this beginning segment will be a review. What do we mean by statitical inference? Statistical inference can be thought of as comprising three different, but related tasks: Point estimation, Confidence Intervals, Hypothesis tests. \n",
    "\n",
    "In point estimation you are trying to estimate a parameter of interest. What is a parameter? A parameter is commonly defined to be the true value from a distribution. Let's say the median amount of time it takes for customer to be converted from a qualified lead to a paying customer. You don't know what the true value of the time will be, but you can look at historical data to estimate what it is.\n",
    "\n",
    "In the real world, there is a lot of variability. You might have some people that take longer to convert, and others that take less time. There are a lot of factors that could influence how long they take to convert. If they have extra budget lying around, or if they have to go through an approval process. If they like what they see right away, or if they want to shop around for a while before making a decision. In statistical inference, the concept of a confidence interval is created to summarize, how much variation we can expect to see so we can get a sense of where the true value is, knowing that the empirical data might change on a day-to-day basis. \n",
    "\n",
    "Those of you who are more well-versed in statistics will know that the way of interpreting confidence intervals can be controversial, due to a difference in the interpretation between people who describe themselves as Bayesian statisticians, and frequentist statisticians. I'm going to side-step that debate for now, since it is a bigger discussion, and rather use the frequentist way of describing confidence sets for consistency.\n",
    "\n",
    "Here's a working definition of a confidence interval. Let's make it a 95% Confidence interval for concreteness. A 95% confidence interval is the interval that will contain the true value of the parameter 95% of the time. That means, if you run an experiment 20 times, 19 out of 20 times your confidence interval will contain the true value. Another way to interpret a confidence interval is to say that if you run 20 different experiements, 19 of those experiments will produce a confidence interval that contains the true value.\n",
    "\n",
    "Last of all, let's define hypothesis testing to be the process of evaluating concrete ideas using data. I CAN DO BETTER."
   ]
  },
  {
   "cell_type": "markdown",
   "metadata": {},
   "source": [
    "## What is bootstrapping?\n",
    "\n",
    "Now that we have that background, what is bootstrapping? Bootstrapping is a statistical technique for making inferences from data. It's name is derived from the idea of picking yourself up from your bootstraps. We'll see later why this might feel like an appropriate name. More specifically, bootstrapping is a flexible statistical technique that allows someone to estimate the bias and variance of a statistic, which in turn enables you to conduct point estimation, confidence sets, and hypothesis tests. Why is it flexible? Two reasons. First, it requires little or no assumptions about the underlying distribution of the data.\n",
    "\n",
    "If you have a statistic. You can say that this mean value follows a particular sampleing distribution such as a gamma distribution or a normal distribution or a beta distribution. But how do you know what distribution it follows? If you only have one value to work off of, you don't usually know. Now, you can make an assumption, but if you're wrong, your confidence intervals might be wildly off. Bootstrapping allows us to sidestep this difficulty.\n",
    "\n",
    "Second reason that bootstrapping is flexible. It is able to provide confidence intervals for statistics that have very difficult to calculate variances. As an example of the last point, how would you calculate the variance of the mean? Well, it's pretty easy. It works out to being the sum of the squared difference from the mean, divided by the total number of samples.\n",
    "\n",
    "INSERT VARIANCE FORMULA\n",
    "\n",
    "Now then, let's say that you want to calculate the median statistic. What is the variance of that statistic? That one is not so easy. However, that's where bootstrapping can help us out."
   ]
  },
  {
   "cell_type": "markdown",
   "metadata": {},
   "source": [
    "## Example\n",
    "Now, with that background, let's go through a simple example in python. In this example, we will be bootstrapping the correlation between an individual's SAT scores and their college GPA. This examples comes from the data used in the original paper that Bradley Efron published back in 1979. If you'd like to read it I will provide a link to that in the follow-up email that I send out."
   ]
  },
  {
   "cell_type": "code",
   "execution_count": 149,
   "metadata": {
    "collapsed": true
   },
   "outputs": [],
   "source": [
    "# Load packages and setup\n",
    "import numpy as np\n",
    "import pandas as pd\n",
    "import scipy.stats\n",
    "import matplotlib.pyplot as plt\n",
    "\n",
    "%matplotlib inline\n",
    "plt.style.use('ggplot')\n",
    "np.random.seed(100)"
   ]
  },
  {
   "cell_type": "code",
   "execution_count": 210,
   "metadata": {
    "collapsed": false
   },
   "outputs": [
    {
     "data": {
      "text/html": [
       "<div>\n",
       "<table border=\"1\" class=\"dataframe\">\n",
       "  <thead>\n",
       "    <tr style=\"text-align: right;\">\n",
       "      <th></th>\n",
       "      <th>School</th>\n",
       "      <th>LSAT</th>\n",
       "      <th>GPA</th>\n",
       "    </tr>\n",
       "  </thead>\n",
       "  <tbody>\n",
       "    <tr>\n",
       "      <th>0</th>\n",
       "      <td>4</td>\n",
       "      <td>653</td>\n",
       "      <td>3.12</td>\n",
       "    </tr>\n",
       "    <tr>\n",
       "      <th>1</th>\n",
       "      <td>6</td>\n",
       "      <td>576</td>\n",
       "      <td>3.39</td>\n",
       "    </tr>\n",
       "    <tr>\n",
       "      <th>2</th>\n",
       "      <td>13</td>\n",
       "      <td>635</td>\n",
       "      <td>3.30</td>\n",
       "    </tr>\n",
       "    <tr>\n",
       "      <th>3</th>\n",
       "      <td>15</td>\n",
       "      <td>661</td>\n",
       "      <td>3.43</td>\n",
       "    </tr>\n",
       "    <tr>\n",
       "      <th>4</th>\n",
       "      <td>31</td>\n",
       "      <td>605</td>\n",
       "      <td>3.13</td>\n",
       "    </tr>\n",
       "  </tbody>\n",
       "</table>\n",
       "</div>"
      ],
      "text/plain": [
       "   School  LSAT   GPA\n",
       "0       4   653  3.12\n",
       "1       6   576  3.39\n",
       "2      13   635  3.30\n",
       "3      15   661  3.43\n",
       "4      31   605  3.13"
      ]
     },
     "execution_count": 210,
     "metadata": {},
     "output_type": "execute_result"
    }
   ],
   "source": [
    "# Read in the data\n",
    "law = pd.read_csv('law_sample.csv')\n",
    "lawPopulation = pd.read_csv('law_pop.csv')\n",
    "law.head()"
   ]
  },
  {
   "cell_type": "code",
   "execution_count": 178,
   "metadata": {
    "collapsed": false,
    "scrolled": true
   },
   "outputs": [
    {
     "data": {
      "text/plain": [
       "[<matplotlib.text.Text at 0x11ca97780>,\n",
       " <matplotlib.text.Text at 0x11c9620b8>,\n",
       " <matplotlib.text.Text at 0x11cab2470>]"
      ]
     },
     "execution_count": 178,
     "metadata": {},
     "output_type": "execute_result"
    },
    {
     "data": {
      "image/png": "[encoded data removed]",
      "text/plain": [
       "<matplotlib.figure.Figure at 0x11c093c50>"
      ]
     },
     "metadata": {},
     "output_type": "display_data"
    }
   ],
   "source": [
    "# Visualize the data\n",
    "fig, ax = plt.subplots(1, 2, sharex=True, sharey=True, figsize = (10, 5))\n",
    "\n",
    "ax[0].plot(lawPopulation.LSAT, lawPopulation.GPA, 'o')\n",
    "ax[0].set(title='Population', ylabel='GPA', xlabel = 'LSAT')\n",
    "\n",
    "ax[1].plot(law.LSAT, law.GPA, 'o')\n",
    "ax[1].set(title='Sample', ylabel='GPA', xlabel = 'LSAT')"
   ]
  },
  {
   "cell_type": "code",
   "execution_count": 183,
   "metadata": {
    "collapsed": false
   },
   "outputs": [],
   "source": [
    "def calc_corr(x, y):\n",
    "    return(np.corrcoef(x, y)[0, 1])"
   ]
  },
  {
   "cell_type": "code",
   "execution_count": 196,
   "metadata": {
    "collapsed": false,
    "scrolled": false
   },
   "outputs": [],
   "source": [
    "# Set the number of bootstrap iterations\n",
    "B = 3200\n",
    "\n",
    "# Create an empty numpy array to store the results\n",
    "tBoot = np.zeros((B, 1))\n",
    "\n",
    "# Run the bootstrapping\n",
    "for i in np.arange(B):\n",
    "    lawResample = law.sample(n = law.shape[0], replace = True)\n",
    "    tBoot[i] = calc_corr(lawResample.LSAT, lawResample.GPA)"
   ]
  },
  {
   "cell_type": "code",
   "execution_count": 211,
   "metadata": {
    "collapsed": true
   },
   "outputs": [],
   "source": [
    "# Compare the bootstrapped sample with repeated sampling from the population\n",
    "tSample = np.zeros((B, 1))\n",
    "\n",
    "# Run the sampling\n",
    "for i in np.arange(B):\n",
    "    lawSample = lawPopulation.sample(n = law.shape[0], replace = False)\n",
    "    tSample[i] = calc_corr(lawSample.LSAT, lawSample.GPA)"
   ]
  },
  {
   "cell_type": "code",
   "execution_count": 217,
   "metadata": {
    "collapsed": false,
    "scrolled": true
   },
   "outputs": [
    {
     "data": {
      "text/plain": [
       "[<matplotlib.text.Text at 0x11d279cf8>, <matplotlib.text.Text at 0x11d2c6128>]"
      ]
     },
     "execution_count": 217,
     "metadata": {},
     "output_type": "execute_result"
    },
    {
     "data": {
      "image/png": "[encoded data removed]",
      "text/plain": [
       "<matplotlib.figure.Figure at 0x11d4ccbe0>"
      ]
     },
     "metadata": {},
     "output_type": "display_data"
    }
   ],
   "source": [
    "# Show similarity between sampling from population and bootstrapping\n",
    "fig, ax = plt.subplots(1, 2, sharex=True, sharey=True, figsize = (10, 5))\n",
    "kwargs = dict(bins=30, normed=True, color='steelblue', edgecolor='none')\n",
    "ax[0].hist(tSample, **kwargs)\n",
    "ax[0].set(title='Sampling from population', ylabel='Density', xlabel = 'Correlation Coefficient')\n",
    "ax[1].hist(tBoot, **kwargs)\n",
    "ax[1].set(title='Bootstrapping', xlabel = 'Correlation Coefficient')"
   ]
  },
  {
   "cell_type": "code",
   "execution_count": null,
   "metadata": {
    "collapsed": true
   },
   "outputs": [],
   "source": [
    "# Calculate the plug-in estimate\n",
    "corHat = calc_corr(law.LSAT, law.GPA)\n",
    "\n",
    "# Calculate the standard error for the correlation coefficient\n",
    "seHat = np.sqrt(np.var(tBoot))\n",
    "seHat"
   ]
  },
  {
   "cell_type": "code",
   "execution_count": 201,
   "metadata": {
    "collapsed": false,
    "scrolled": true
   },
   "outputs": [
    {
     "data": {
      "text/plain": [
       "array([ 0.51165211,  1.04109688])"
      ]
     },
     "execution_count": 201,
     "metadata": {},
     "output_type": "execute_result"
    }
   ],
   "source": [
    "# Normal intervals\n",
    "normalInterval = corHat + seHat * norm.ppf([0.025, 0.975])\n",
    "normalInterval"
   ]
  },
  {
   "cell_type": "code",
   "execution_count": 202,
   "metadata": {
    "collapsed": false,
    "scrolled": true
   },
   "outputs": [
    {
     "data": {
      "text/plain": [
       "array([ 0.46194551,  0.96169933])"
      ]
     },
     "execution_count": 202,
     "metadata": {},
     "output_type": "execute_result"
    }
   ],
   "source": [
    "# Percentile intervals\n",
    "percentileInterval = np.percentile(tBoot, [2.5, 97.5])\n",
    "percentileInterval"
   ]
  },
  {
   "cell_type": "code",
   "execution_count": 204,
   "metadata": {
    "collapsed": false
   },
   "outputs": [],
   "source": [
    "cor = calc_corr(lawPopulation.LSAT, lawPopulation.GPA)"
   ]
  },
  {
   "cell_type": "code",
   "execution_count": 209,
   "metadata": {
    "collapsed": false,
    "scrolled": true
   },
   "outputs": [
    {
     "data": {
      "image/png": "[encoded data removed]",
      "text/plain": [
       "<matplotlib.figure.Figure at 0x11ca3b898>"
      ]
     },
     "metadata": {},
     "output_type": "display_data"
    }
   ],
   "source": [
    "# Plot the results\n",
    "plt.hist(tBoot, bins=30, normed=True, color='steelblue', edgecolor='none');\n",
    "plt.axvline(x = percentileInterval[0], linestyle = '--', color = 'black', label = 'Percentile')\n",
    "plt.axvline(x = percentileInterval[1], linestyle = '--', color = 'black')\n",
    "plt.axvline(x = cor, label = 'True Value', color = 'red')\n",
    "plt.axvline(x = corHat, label = 'Estimated Value', color = 'black')\n",
    "plt.legend(framealpha=1, frameon=False, loc = 'upper left');\n",
    "plt.show()"
   ]
  },
  {
   "cell_type": "code",
   "execution_count": 231,
   "metadata": {
    "collapsed": false
   },
   "outputs": [
    {
     "data": {
      "text/plain": [
       "3.0946666666666669"
      ]
     },
     "execution_count": 231,
     "metadata": {},
     "output_type": "execute_result"
    }
   ],
   "source": [
    "law.GPA.values.mean()"
   ]
  },
  {
   "cell_type": "code",
   "execution_count": 239,
   "metadata": {
    "collapsed": false
   },
   "outputs": [],
   "source": [
    "import time"
   ]
  },
  {
   "cell_type": "code",
   "execution_count": 256,
   "metadata": {
    "collapsed": false
   },
   "outputs": [
    {
     "data": {
      "text/plain": [
       "0.023602008819580078"
      ]
     },
     "execution_count": 256,
     "metadata": {},
     "output_type": "execute_result"
    }
   ],
   "source": [
    "# Comparing NumPy and Pandas resampling\n",
    "B = 1000\n",
    "testArrray = law.GPA.values\n",
    "testArrayResult = np.zeros((B, 1))\n",
    "\n",
    "startNumPyTime = time.time()\n",
    "for i in np.arange(B):\n",
    "    arrayResample = np.random.choice(testArrray, size = 15, replace = True)\n",
    "    testArrayResult[i] = arrayResample.mean()\n",
    "time.time() - startNumPyTime"
   ]
  },
  {
   "cell_type": "code",
   "execution_count": 255,
   "metadata": {
    "collapsed": false
   },
   "outputs": [
    {
     "data": {
      "text/plain": [
       "4.146126985549927"
      ]
     },
     "execution_count": 255,
     "metadata": {},
     "output_type": "execute_result"
    }
   ],
   "source": [
    "testSeries = law.GPA\n",
    "testSeriesResult = np.zeros((B, 1))\n",
    "\n",
    "startPandasTime = time.time()\n",
    "for i in np.arange(B):\n",
    "    seriesResample = testSeries.sample(n = 15, replace = True)\n",
    "    testSeriesResult[i] = lawResample.mean()\n",
    "time.time() - startPandasTime"
   ]
  },
  {
   "cell_type": "markdown",
   "metadata": {},
   "source": [
    "## Ideas\n",
    "- Comparing the speed of bootstrapping for NumPy and Pandas\n",
    "- Estimating the bias of a statistic\n",
    "- Practical Tips for Implementing Bootstrapping\n",
    "- How to compare bootstrapped results\n",
    "- Put common tasks into functions\n",
    "\n",
    "## Done\n",
    "- Comparison of bootstrapped sample with the original sample\n",
    "- Example of bootstrapping the correlation coefficient\n",
    "- Calculation of percentile interval and normal interval\n",
    "- Historgram plot of bootstrapped results"
   ]
  },
  {
   "cell_type": "markdown",
   "metadata": {},
   "source": [
    "## References\n",
    "1. Efron, B. and Tibshirani, R. (1993) An Introduction to the Bootstrap. Chapman and Hall, New\n",
    "York, London."
   ]
  }
 ],
 "metadata": {
  "kernelspec": {
   "display_name": "Python 3",
   "language": "python",
   "name": "python3"
  },
  "language_info": {
   "codemirror_mode": {
    "name": "ipython",
    "version": 3
   },
   "file_extension": ".py",
   "mimetype": "text/x-python",
   "name": "python",
   "nbconvert_exporter": "python",
   "pygments_lexer": "ipython3",
   "version": "3.5.1"
  }
 },
 "nbformat": 4,
 "nbformat_minor": 0
}
